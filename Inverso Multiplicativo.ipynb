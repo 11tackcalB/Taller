{
 "cells": [
  {
   "cell_type": "code",
   "execution_count": null,
   "id": "e3e78afc",
   "metadata": {},
   "outputs": [],
   "source": [
    "def gcd(num1,num2): #great common divisor\n",
    "    while (num2!=0):\n",
    "        num1,num2=num2,num1%num2\n",
    "    return abs(num1)\n",
    "    \n",
    "def coprime(a,b):\n",
    "    if gcd(a,b)==1:\n",
    "        return True\n",
    "    else:\n",
    "        return False\n",
    "\n",
    "def inverse_multplication(a,b,n):\n",
    "    if coprime(a,n)==True:\n",
    "        for i in range(n):\n",
    "            halfway=(a*i)%n\n",
    "            if halfway==1:\n",
    "                print(f'Para lograr el inverso multiplicativo se uso {i}%{n} y su inverso multiplicativo es {(b*i)%n}')\n",
    "        return None\n",
    "    else:\n",
    "        if b%(gcd(a,n))==0:\n",
    "            print(\"La expresion se puede reescribir de la siguiente manera\")\n",
    "            print(f'{floor(a/gcd(a,n))} es congruente con {floor(b/gcd(a,n))}%{n//gcd(a,n)}', end=\" \")\n",
    "            print(f'Y su inverso multiplicativo es {floor((b/gcd(a,n))*gcd(a,n)%(n/gcd(a,n)))}')\n",
    "        else:\n",
    "            return \"No existe solución\"\n",
    "\n",
    "\n",
    "\n",
    "\n",
    "if __name__== \"__main__\":\n",
    "    from math import floor\n",
    "    a=int(input(\"Escriba a\"))\n",
    "    b=int(input(\"Escriba b\"))\n",
    "    n=int(input(\"Escriba n\"))\n",
    "    print(f'Se le está mostrando {a}X congruente {b} (modulo {n})', end=\" \")\n",
    "    print(\"donde X representa su inverso multiplicativo\")\n",
    "    (inverse_multplication(a,b,n))\n"
   ]
  }
 ],
 "metadata": {
  "kernelspec": {
   "display_name": "Python 3 (ipykernel)",
   "language": "python",
   "name": "python3"
  },
  "language_info": {
   "codemirror_mode": {
    "name": "ipython",
    "version": 3
   },
   "file_extension": ".py",
   "mimetype": "text/x-python",
   "name": "python",
   "nbconvert_exporter": "python",
   "pygments_lexer": "ipython3",
   "version": "3.9.13"
  }
 },
 "nbformat": 4,
 "nbformat_minor": 5
}
