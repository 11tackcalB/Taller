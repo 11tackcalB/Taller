{
 "cells": [
  {
   "cell_type": "code",
   "execution_count": null,
   "id": "bf2e0b0f",
   "metadata": {},
   "outputs": [],
   "source": [
    "x=[]\n",
    "for i in range (0,711):\n",
    "    for j in range(0,711):\n",
    "        if i*j==710:\n",
    "            x.append(i)\n",
    "\n",
    "print(x)\n"
   ]
  }
 ],
 "metadata": {
  "kernelspec": {
   "display_name": "Python 3 (ipykernel)",
   "language": "python",
   "name": "python3"
  },
  "language_info": {
   "codemirror_mode": {
    "name": "ipython",
    "version": 3
   },
   "file_extension": ".py",
   "mimetype": "text/x-python",
   "name": "python",
   "nbconvert_exporter": "python",
   "pygments_lexer": "ipython3",
   "version": "3.9.13"
  }
 },
 "nbformat": 4,
 "nbformat_minor": 5
}
